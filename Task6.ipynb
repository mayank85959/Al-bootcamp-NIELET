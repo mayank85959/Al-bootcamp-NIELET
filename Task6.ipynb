{
  "nbformat": 4,
  "nbformat_minor": 0,
  "metadata": {
    "colab": {
      "provenance": []
    },
    "kernelspec": {
      "name": "python3",
      "display_name": "Python 3"
    },
    "language_info": {
      "name": "python"
    }
  },
  "cells": [
    {
      "cell_type": "code",
      "source": [
        "import pandas as pd\n",
        "#load dataset\n",
        "df = pd.read_csv(\"/content/house_prices.csv\")\n",
        "print(df.describe())"
      ],
      "metadata": {
        "colab": {
          "base_uri": "https://localhost:8080/"
        },
        "collapsed": true,
        "id": "0Xj-G90z-x79",
        "outputId": "89ec2ff3-985b-419c-c176-6453545d2c54"
      },
      "execution_count": 5,
      "outputs": [
        {
          "output_type": "stream",
          "name": "stdout",
          "text": [
            "               Index  Price (in rupees)  Dimensions  Plot Area\n",
            "count  187531.000000       1.698660e+05         0.0        0.0\n",
            "mean    93765.000000       7.583772e+03         NaN        NaN\n",
            "std     54135.681003       2.724171e+04         NaN        NaN\n",
            "min         0.000000       0.000000e+00         NaN        NaN\n",
            "25%     46882.500000       4.297000e+03         NaN        NaN\n",
            "50%     93765.000000       6.034000e+03         NaN        NaN\n",
            "75%    140647.500000       9.450000e+03         NaN        NaN\n",
            "max    187530.000000       6.700000e+06         NaN        NaN\n"
          ]
        }
      ]
    },
    {
      "cell_type": "code",
      "source": [
        "import pandas as pd\n",
        "#load dataset\n",
        "df = pd.read_csv(\"/content/house_prices.csv\")\n",
        "print(df.info(5))"
      ],
      "metadata": {
        "collapsed": true,
        "colab": {
          "base_uri": "https://localhost:8080/"
        },
        "id": "PD_OONFF-rFu",
        "outputId": "148d7b5f-7a2d-453f-f4a1-25214c8e4a71"
      },
      "execution_count": 3,
      "outputs": [
        {
          "output_type": "stream",
          "name": "stdout",
          "text": [
            "<class 'pandas.core.frame.DataFrame'>\n",
            "RangeIndex: 187531 entries, 0 to 187530\n",
            "Data columns (total 21 columns):\n",
            " #   Column             Non-Null Count   Dtype  \n",
            "---  ------             --------------   -----  \n",
            " 0   Index              187531 non-null  int64  \n",
            " 1   Title              187531 non-null  object \n",
            " 2   Description        184508 non-null  object \n",
            " 3   Amount(in rupees)  187531 non-null  object \n",
            " 4   Price (in rupees)  169866 non-null  float64\n",
            " 5   location           187531 non-null  object \n",
            " 6   Carpet Area        106858 non-null  object \n",
            " 7   Status             186916 non-null  object \n",
            " 8   Floor              180454 non-null  object \n",
            " 9   Transaction        187448 non-null  object \n",
            " 10  Furnishing         184634 non-null  object \n",
            " 11  facing             117298 non-null  object \n",
            " 12  overlooking        106095 non-null  object \n",
            " 13  Society            77853 non-null   object \n",
            " 14  Bathroom           186703 non-null  object \n",
            " 15  Balcony            138596 non-null  object \n",
            " 16  Car Parking        84174 non-null   object \n",
            " 17  Ownership          122014 non-null  object \n",
            " 18  Super Area         79846 non-null   object \n",
            " 19  Dimensions         0 non-null       float64\n",
            " 20  Plot Area          0 non-null       float64\n",
            "dtypes: float64(3), int64(1), object(17)\n",
            "memory usage: 30.0+ MB\n",
            "None\n"
          ]
        }
      ]
    },
    {
      "cell_type": "code",
      "execution_count": 2,
      "metadata": {
        "colab": {
          "base_uri": "https://localhost:8080/"
        },
        "collapsed": true,
        "id": "wm-f2zvA9lXX",
        "outputId": "8580bd44-4818-4ad8-b1eb-53fe088742c2"
      },
      "outputs": [
        {
          "output_type": "stream",
          "name": "stdout",
          "text": [
            "   Index                                              Title  \\\n",
            "0      0  1 BHK Ready to Occupy Flat for sale in Srushti...   \n",
            "1      1  2 BHK Ready to Occupy Flat for sale in Dosti V...   \n",
            "2      2  2 BHK Ready to Occupy Flat for sale in Sunrise...   \n",
            "3      3        1 BHK Ready to Occupy Flat for sale Kasheli   \n",
            "4      4  2 BHK Ready to Occupy Flat for sale in TenX Ha...   \n",
            "\n",
            "                                         Description Amount(in rupees)  \\\n",
            "0  Bhiwandi, Thane has an attractive 1 BHK Flat f...           42 Lac    \n",
            "1  One can find this stunning 2 BHK flat for sale...           98 Lac    \n",
            "2  Up for immediate sale is a 2 BHK apartment in ...          1.40 Cr    \n",
            "3  This beautiful 1 BHK Flat is available for sal...           25 Lac    \n",
            "4  This lovely 2 BHK Flat in Pokhran Road, Thane ...          1.60 Cr    \n",
            "\n",
            "   Price (in rupees) location Carpet Area         Status         Floor  \\\n",
            "0             6000.0    thane    500 sqft  Ready to Move  10 out of 11   \n",
            "1            13799.0    thane    473 sqft  Ready to Move   3 out of 22   \n",
            "2            17500.0    thane    779 sqft  Ready to Move  10 out of 29   \n",
            "3                NaN    thane    530 sqft  Ready to Move    1 out of 3   \n",
            "4            18824.0    thane    635 sqft  Ready to Move  20 out of 42   \n",
            "\n",
            "  Transaction  ... facing             overlooking  \\\n",
            "0      Resale  ...    NaN                     NaN   \n",
            "1      Resale  ...   East             Garden/Park   \n",
            "2      Resale  ...   East             Garden/Park   \n",
            "3      Resale  ...    NaN                     NaN   \n",
            "4      Resale  ...   West  Garden/Park, Main Road   \n",
            "\n",
            "                               Society Bathroom Balcony Car Parking  \\\n",
            "0  Srushti Siddhi Mangal Murti Complex        1       2         NaN   \n",
            "1                          Dosti Vihar        2     NaN      1 Open   \n",
            "2                 Sunrise by Kalpataru        2     NaN   1 Covered   \n",
            "3                                  NaN        1       1         NaN   \n",
            "4          TenX Habitat Raymond Realty        2     NaN   1 Covered   \n",
            "\n",
            "              Ownership Super Area Dimensions  Plot Area  \n",
            "0                   NaN        NaN        NaN        NaN  \n",
            "1              Freehold        NaN        NaN        NaN  \n",
            "2              Freehold        NaN        NaN        NaN  \n",
            "3                   NaN        NaN        NaN        NaN  \n",
            "4  Co-operative Society        NaN        NaN        NaN  \n",
            "\n",
            "[5 rows x 21 columns]\n"
          ]
        }
      ],
      "source": [
        "import pandas as pd\n",
        "#load dataset\n",
        "df = pd.read_csv(\"/content/house_prices.csv\")\n",
        "print(df.head(5))"
      ]
    }
  ]
}